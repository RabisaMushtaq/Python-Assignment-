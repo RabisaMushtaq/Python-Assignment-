{
  "cells": [
    {
      "cell_type": "markdown",
      "metadata": {
        "id": "view-in-github",
        "colab_type": "text"
      },
      "source": [
        "<a href=\"https://colab.research.google.com/github/RabisaMushtaq/Recommendation_system/blob/master/BigData_project.ipynb\" target=\"_parent\"><img src=\"https://colab.research.google.com/assets/colab-badge.svg\" alt=\"Open In Colab\"/></a>"
      ]
    },
    {
      "cell_type": "markdown",
      "metadata": {
        "id": "hGm_LuhTutSq"
      },
      "source": [
        "## Step 1: Set Up Your PySpark Environment"
      ]
    },
    {
      "cell_type": "code",
      "execution_count": null,
      "metadata": {
        "id": "lxQ2IwO-smZk"
      },
      "outputs": [],
      "source": [
        "from pyspark.sql import SparkSession\n",
        "\n",
        "spark = SparkSession.builder \\\n",
        "    .appName(\"ProductRecommendationALS\") \\\n",
        "    .getOrCreate()\n"
      ]
    },
    {
      "cell_type": "markdown",
      "metadata": {
        "id": "dh7sOndpuxw6"
      },
      "source": [
        "## Step 2: Load the Dataset"
      ]
    },
    {
      "cell_type": "code",
      "execution_count": null,
      "metadata": {
        "colab": {
          "base_uri": "https://localhost:8080/"
        },
        "id": "FFlTVvxlsoAD",
        "outputId": "7d428386-7015-42e4-dad3-0e650a4f625c"
      },
      "outputs": [
        {
          "name": "stdout",
          "output_type": "stream",
          "text": [
            "+--------------+-------------------+------+---+--------------+--------------+--------+----------------+--------------+--------+------------+\n",
            "|Transaction_ID|   Transaction_date|Gender|Age|Marital_status|   State_names| Segment|Employees_status|Payment_method|Referral|Amount_spent|\n",
            "+--------------+-------------------+------+---+--------------+--------------+--------+----------------+--------------+--------+------------+\n",
            "|          1000|2018-01-01 00:04:00|Female| 39|        Single|      Oklahoma|Platinum|    Unemployment|          Card|       0|      1557.5|\n",
            "|          1001|2018-01-01 00:06:00|  Male| 34|       Married|        Hawaii|   Basic|         workers|        PayPal|       1|      153.55|\n",
            "|          1002|2018-01-01 00:14:00|Female| 53|       Married|          Iowa|   Basic|   self-employed|        PayPal|       1|     2640.96|\n",
            "|          1003|2018-01-01 00:23:00|  Male| 33|       Married|     Wisconsin|   Basic|   self-employed|          Card|       1|      293.58|\n",
            "|          1004|2018-01-01 00:25:00|Female| 36|       Married|         Texas|Platinum|       Employees|          Card|       0|     1608.01|\n",
            "|          1005|2018-01-01 00:27:00|  NULL| 48|       Married|North Carolina|  Silver|   self-employed|         Other|    NULL|     1001.32|\n",
            "|          1006|2018-01-01 00:29:00|Female| 55|        Single|          Ohio|  Silver|    Unemployment|        PayPal|       0|     1553.61|\n",
            "|          1007|2018-01-01 00:29:00|Female| 35|       Married|        Hawaii|   Basic|         workers|         Other|       1|     1851.58|\n",
            "|          1008|2018-01-01 00:31:00|  Male| 18|       Married|        Nevada|   Basic|       Employees|          Card|       1|        NULL|\n",
            "|          1009|2018-01-01 00:33:00|Female| 50|       Married|  North Dakota|   Basic|         workers|          Card|       1|      541.23|\n",
            "|          1010|2018-01-01 00:34:00|Female| 40|        Single|      Illinois|   Basic|    Unemployment|        PayPal|       1|     1160.65|\n",
            "|          1011|2018-01-01 00:36:00|  Male| 73|       Married| West Virginia|   Basic|       Employees|        PayPal|       0|     1397.09|\n",
            "|          1012|2018-01-01 00:41:00|Female| 44|        Single|       Florida|   Basic|         workers|        PayPal|       0|     1778.33|\n",
            "|          1013|2018-01-01 00:43:00|  Male| 77|       Married|        Oregon| Missing|         workers|          Card|       0|     1449.98|\n",
            "|          1014|2018-01-01 00:43:00|  Male| 54|        Single|North Carolina|Platinum|       Employees|          Card|       1|     2936.96|\n",
            "|          1015|2018-01-01 00:44:00|Female| 37|       Married|       Arizona|   Basic|       Employees|         Other|       1|        NULL|\n",
            "|          1016|2018-01-01 00:52:00|Female| 75|        Single|     Tennessee|Platinum|       Employees|          Card|       0|     2870.69|\n",
            "|          1017|2018-01-01 00:53:00|Female| 77|        Single|    Washington|Platinum|       Employees|        PayPal|       0|      439.56|\n",
            "|          1018|2018-01-01 00:57:00|  Male| 55|       Married|South Carolina|   Basic|       Employees|        PayPal|       1|     1274.62|\n",
            "|          1019|2018-01-01 01:02:00|Female| 37|       Married|      Missouri|Platinum|         workers|          Card|    NULL|     1319.68|\n",
            "+--------------+-------------------+------+---+--------------+--------------+--------+----------------+--------------+--------+------------+\n",
            "only showing top 20 rows\n",
            "\n",
            "root\n",
            " |-- Transaction_ID: integer (nullable = true)\n",
            " |-- Transaction_date: timestamp (nullable = true)\n",
            " |-- Gender: string (nullable = true)\n",
            " |-- Age: integer (nullable = true)\n",
            " |-- Marital_status: string (nullable = true)\n",
            " |-- State_names: string (nullable = true)\n",
            " |-- Segment: string (nullable = true)\n",
            " |-- Employees_status: string (nullable = true)\n",
            " |-- Payment_method: string (nullable = true)\n",
            " |-- Referral: integer (nullable = true)\n",
            " |-- Amount_spent: double (nullable = true)\n",
            "\n"
          ]
        }
      ],
      "source": [
        "# Load CSV file\n",
        "file_path = \"/content/customer_spending_1M_2018_2025.csv\"\n",
        "df = spark.read.option(\"header\", True).option(\"inferSchema\", True).csv(file_path)\n",
        "\n",
        "df.show()\n",
        "df.printSchema()\n"
      ]
    },
    {
      "cell_type": "markdown",
      "metadata": {
        "id": "Urpi7fl7u2m2"
      },
      "source": [
        "##  Step 3: Data Cleaning"
      ]
    },
    {
      "cell_type": "code",
      "execution_count": null,
      "metadata": {
        "colab": {
          "base_uri": "https://localhost:8080/"
        },
        "id": "hNTKLmLZkn2B",
        "outputId": "bdf39288-ecd0-42c3-f2e3-438cb99a4fa4"
      },
      "outputs": [
        {
          "name": "stdout",
          "output_type": "stream",
          "text": [
            "+----------+---------+-------+\n",
            "|CustomerID|ProductID| rating|\n",
            "+----------+---------+-------+\n",
            "|         5|        6|1611.28|\n",
            "|        89|       11| 395.99|\n",
            "|       136|        4| 153.55|\n",
            "|       146|        2| 841.26|\n",
            "|       194|        3| 713.87|\n",
            "|       213|       11| 567.74|\n",
            "|       379|       10| 969.93|\n",
            "|       485|        2|2659.77|\n",
            "|       587|        4|1581.77|\n",
            "|       591|        6| 858.76|\n",
            "|       667|        1| 599.19|\n",
            "|       698|        6| 536.85|\n",
            "|       798|       12|2580.54|\n",
            "|       849|        4| 701.22|\n",
            "|       971|        2|2904.41|\n",
            "|      1295|        1|2767.44|\n",
            "|      1330|        8| 2476.4|\n",
            "|      1369|        8| 1922.8|\n",
            "|      1430|       10| 221.17|\n",
            "|      1457|        8| 1787.8|\n",
            "+----------+---------+-------+\n",
            "only showing top 20 rows\n",
            "\n"
          ]
        }
      ],
      "source": [
        "\n",
        "from pyspark.sql.functions import monotonically_increasing_id\n",
        "\n",
        "# Drop nulls and duplicates\n",
        "df_cleaned = df.dropna().dropDuplicates()\n",
        "\n",
        "# Assign fake CustomerID and ProductID for ALS (since they're missing)\n",
        "# Create a fake 'CustomerID' by combining attributes like Gender, Age, State\n",
        "df_customers = df_cleaned.select(\"Gender\", \"Age\", \"State_names\").dropDuplicates() \\\n",
        "    .withColumn(\"CustomerID\", monotonically_increasing_id())\n",
        "\n",
        "# Create a fake 'ProductID' by combining Segment and Payment method (simulate product category)\n",
        "df_products = df_cleaned.select(\"Segment\", \"Payment_method\").dropDuplicates() \\\n",
        "    .withColumn(\"ProductID\", monotonically_increasing_id())\n",
        "\n",
        "# Join back to main data\n",
        "df1 = df_cleaned.join(df_customers, on=[\"Gender\", \"Age\", \"State_names\"], how=\"left\")\n",
        "df2 = df1.join(df_products, on=[\"Segment\", \"Payment_method\"], how=\"left\")\n",
        "\n",
        "# Rename amount spent as rating\n",
        "df_final = df2.select(\"CustomerID\", \"ProductID\", \"Amount_spent\").withColumnRenamed(\"Amount_spent\", \"rating\")\n",
        "\n",
        "df_final.show()\n"
      ]
    },
    {
      "cell_type": "markdown",
      "metadata": {
        "id": "TPqqho-4Cyqh"
      },
      "source": [
        "##Step 4: Big Data-Based Filtering — User/Product Pruning for ALS"
      ]
    },
    {
      "cell_type": "code",
      "execution_count": null,
      "metadata": {
        "colab": {
          "base_uri": "https://localhost:8080/"
        },
        "id": "LVrMY1hryjnh",
        "outputId": "5a47a42b-2595-437a-a12e-32b4625800ff"
      },
      "outputs": [
        {
          "name": "stdout",
          "output_type": "stream",
          "text": [
            "Filtered users: 1720\n",
            "Filtered products: 15\n",
            "Filtered data size: 804874\n"
          ]
        }
      ],
      "source": [
        "from pyspark.sql.functions import count\n",
        "# Step 4: Filter to frequent users and frequent products\n",
        "from pyspark.sql.functions import col\n",
        "\n",
        "# Count interactions per CustomerID and ProductID\n",
        "user_counts = df_final.groupBy(\"CustomerID\").count().withColumnRenamed(\"count\", \"user_count\")\n",
        "product_counts = df_final.groupBy(\"ProductID\").count().withColumnRenamed(\"count\", \"product_count\")\n",
        "\n",
        "# Filter based on threshold\n",
        "frequent_users = user_counts.filter(col(\"user_count\") >= 10).select(\"CustomerID\")\n",
        "frequent_products = product_counts.filter(col(\"product_count\") >= 10).select(\"ProductID\")\n",
        "\n",
        "df_filtered = df_final.join(frequent_users, on=\"CustomerID\") \\\n",
        "                      .join(frequent_products, on=\"ProductID\")\n",
        "\n",
        "print(\"Filtered users:\", df_filtered.select(\"CustomerID\").distinct().count())\n",
        "print(\"Filtered products:\", df_filtered.select(\"ProductID\").distinct().count())\n",
        "\n",
        "# Show how many interactions remain\n",
        "print(\"Filtered data size:\", df_filtered.count())\n"
      ]
    },
    {
      "cell_type": "code",
      "execution_count": null,
      "metadata": {
        "colab": {
          "base_uri": "https://localhost:8080/"
        },
        "id": "TWte-UPWGFox",
        "outputId": "2e59ebd1-d5d3-453e-98d1-ac78f994c6ab"
      },
      "outputs": [
        {
          "name": "stdout",
          "output_type": "stream",
          "text": [
            "+----------+-----+\n",
            "|CustomerID|count|\n",
            "+----------+-----+\n",
            "|8589934943| 1581|\n",
            "|       311| 1268|\n",
            "|8589934927| 1242|\n",
            "|8589935308| 1242|\n",
            "|8589935186| 1241|\n",
            "|       676| 1241|\n",
            "|8589934627| 1238|\n",
            "|       758| 1230|\n",
            "|       482| 1215|\n",
            "|8589934773| 1213|\n",
            "|8589934849| 1213|\n",
            "|8589935081| 1207|\n",
            "|8589934904| 1205|\n",
            "|         2| 1196|\n",
            "|8589935054| 1190|\n",
            "|8589935333| 1190|\n",
            "|8589934832| 1190|\n",
            "|       512| 1186|\n",
            "|       371| 1182|\n",
            "|8589935457| 1175|\n",
            "+----------+-----+\n",
            "only showing top 20 rows\n",
            "\n",
            "+---------+------+\n",
            "|ProductID| count|\n",
            "+---------+------+\n",
            "|        4|168665|\n",
            "|        8|108466|\n",
            "|        6| 95049|\n",
            "|       14| 79933|\n",
            "|        9| 63094|\n",
            "|       10| 42517|\n",
            "|        2| 41761|\n",
            "|       11| 35312|\n",
            "|        5| 34924|\n",
            "|        7| 34189|\n",
            "|        1| 30217|\n",
            "|       13| 24790|\n",
            "|        3| 22802|\n",
            "|        0| 19179|\n",
            "|       12| 13067|\n",
            "+---------+------+\n",
            "\n"
          ]
        }
      ],
      "source": [
        "df_filtered.groupBy(\"CustomerID\").count().orderBy(\"count\", ascending=False).show()\n",
        "df_filtered.groupBy(\"ProductID\").count().orderBy(\"count\", ascending=False).show()"
      ]
    },
    {
      "cell_type": "markdown",
      "metadata": {
        "id": "HoGhf-hhvWJB"
      },
      "source": [
        "## Step 5: Prepare Data for ALS"
      ]
    },
    {
      "cell_type": "code",
      "execution_count": null,
      "metadata": {
        "colab": {
          "base_uri": "https://localhost:8080/"
        },
        "id": "HGzimYZ9vPCy",
        "outputId": "05268d0b-eb64-4b10-dea5-4903e12f7b5d"
      },
      "outputs": [
        {
          "name": "stdout",
          "output_type": "stream",
          "text": [
            "+------+------+------------------+\n",
            "|userId|itemId|            rating|\n",
            "+------+------+------------------+\n",
            "|1085.0|  10.0|1004507.8400000024|\n",
            "|1155.0|   0.0| 670451.0999999975|\n",
            "|1460.0|   9.0|          18839.75|\n",
            "|1542.0|  14.0|1016732.7599999966|\n",
            "|1649.0|   9.0|         305171.75|\n",
            "| 508.0|   2.0| 1148099.090000003|\n",
            "| 735.0|   0.0|  53116.3999999999|\n",
            "|  83.0|   4.0| 761877.5999999979|\n",
            "| 785.0|   0.0|164026.70999999985|\n",
            "|  89.0|   1.0| 712496.3199999965|\n",
            "|  10.0|   0.0|124281.67999999951|\n",
            "| 700.0|   4.0| 887307.7500000033|\n",
            "| 106.0|   2.0| 1046261.999999996|\n",
            "|1046.0|  12.0| 623870.4800000003|\n",
            "|1057.0|   0.0| 408770.9500000011|\n",
            "|1270.0|   8.0|1108114.3399999943|\n",
            "|1727.0|   1.0| 546567.4399999987|\n",
            "| 300.0|   0.0| 576591.4599999986|\n",
            "| 370.0|   3.0|1110405.5599999987|\n",
            "| 655.0|   0.0| 299248.9500000001|\n",
            "+------+------+------------------+\n",
            "only showing top 20 rows\n",
            "\n",
            "+------+-----+\n",
            "|userId|count|\n",
            "+------+-----+\n",
            "|1051.0|    1|\n",
            "| 299.0|    1|\n",
            "| 934.0|    1|\n",
            "| 305.0|    1|\n",
            "| 596.0|    1|\n",
            "| 558.0|    1|\n",
            "| 692.0|    1|\n",
            "| 769.0|    1|\n",
            "| 496.0|    1|\n",
            "| 782.0|    1|\n",
            "| 184.0|    2|\n",
            "| 170.0|    2|\n",
            "| 576.0|    1|\n",
            "|1369.0|    1|\n",
            "| 147.0|    2|\n",
            "| 810.0|    1|\n",
            "|1587.0|    1|\n",
            "| 720.0|    1|\n",
            "| 735.0|    1|\n",
            "| 608.0|    1|\n",
            "+------+-----+\n",
            "only showing top 20 rows\n",
            "\n",
            "+------+-----+\n",
            "|itemId|count|\n",
            "+------+-----+\n",
            "|   8.0|   85|\n",
            "|   0.0|  409|\n",
            "|   7.0|   88|\n",
            "|   1.0|  261|\n",
            "|   4.0|  155|\n",
            "|  11.0|   61|\n",
            "|  14.0|   33|\n",
            "|   3.0|  198|\n",
            "|   2.0|  231|\n",
            "|  10.0|   75|\n",
            "|  13.0|   47|\n",
            "|   6.0|  104|\n",
            "|   5.0|  106|\n",
            "|   9.0|   84|\n",
            "|  12.0|   56|\n",
            "+------+-----+\n",
            "\n"
          ]
        }
      ],
      "source": [
        "from pyspark.sql.functions import sum\n",
        "from pyspark.ml.feature import StringIndexer\n",
        "\n",
        "# Step 1: Aggregate duplicate user-product pairs by summing their ratings\n",
        "df_for_als = df_final.groupBy(\"CustomerID\", \"ProductID\") \\\n",
        "                     .agg(sum(\"rating\").alias(\"rating\"))\n",
        "\n",
        "# Step 2: Convert string IDs to numeric IDs for ALS\n",
        "user_indexer = StringIndexer(inputCol=\"CustomerID\", outputCol=\"userId\")\n",
        "item_indexer = StringIndexer(inputCol=\"ProductID\", outputCol=\"itemId\")\n",
        "\n",
        "# Step 3: Apply the indexers\n",
        "df_indexed = user_indexer.fit(df_for_als).transform(df_for_als)\n",
        "df_indexed = item_indexer.fit(df_indexed).transform(df_indexed)\n",
        "\n",
        "# Step 4: View final data ready for ALS\n",
        "df_indexed.select(\"userId\", \"itemId\", \"rating\").show()\n",
        "\n",
        "\n",
        "# Check how many distinct products each user has rated\n",
        "df_indexed.groupBy(\"userId\").count().show()\n",
        "\n",
        "# Check how many distinct users have rated each product\n",
        "df_indexed.groupBy(\"itemId\").count().show()"
      ]
    },
    {
      "cell_type": "code",
      "execution_count": null,
      "metadata": {
        "colab": {
          "base_uri": "https://localhost:8080/"
        },
        "id": "KGCsY24TY8bB",
        "outputId": "6e828fae-3ca3-498a-c45f-cef93711982a"
      },
      "outputs": [
        {
          "name": "stdout",
          "output_type": "stream",
          "text": [
            "+------+-----+\n",
            "|userId|count|\n",
            "+------+-----+\n",
            "|1051.0|    1|\n",
            "| 299.0|    1|\n",
            "| 934.0|    1|\n",
            "| 305.0|    1|\n",
            "| 596.0|    1|\n",
            "| 558.0|    1|\n",
            "| 692.0|    1|\n",
            "| 769.0|    1|\n",
            "| 496.0|    1|\n",
            "| 782.0|    1|\n",
            "| 184.0|    2|\n",
            "| 170.0|    2|\n",
            "| 576.0|    1|\n",
            "|1369.0|    1|\n",
            "| 147.0|    2|\n",
            "| 810.0|    1|\n",
            "|1587.0|    1|\n",
            "| 720.0|    1|\n",
            "| 735.0|    1|\n",
            "| 608.0|    1|\n",
            "+------+-----+\n",
            "only showing top 20 rows\n",
            "\n",
            "+------+-----+\n",
            "|itemId|count|\n",
            "+------+-----+\n",
            "|   8.0|   85|\n",
            "|   0.0|  409|\n",
            "|   7.0|   88|\n",
            "|   1.0|  261|\n",
            "|   4.0|  155|\n",
            "|  11.0|   61|\n",
            "|  14.0|   33|\n",
            "|   3.0|  198|\n",
            "|   2.0|  231|\n",
            "|  10.0|   75|\n",
            "|  13.0|   47|\n",
            "|   6.0|  104|\n",
            "|   5.0|  106|\n",
            "|   9.0|   84|\n",
            "|  12.0|   56|\n",
            "+------+-----+\n",
            "\n"
          ]
        }
      ],
      "source": [
        "# Check how many distinct products each user has rated\n",
        "df_indexed.groupBy(\"userId\").count().show()\n",
        "\n",
        "# Check how many distinct users have rated each product\n",
        "df_indexed.groupBy(\"itemId\").count().show()"
      ]
    },
    {
      "cell_type": "markdown",
      "metadata": {
        "id": "opTjfVzIvbWa"
      },
      "source": [
        "## Step 6: Train the ALS Model\n",
        "\n"
      ]
    },
    {
      "cell_type": "code",
      "execution_count": null,
      "metadata": {
        "id": "CEfErQhytchA"
      },
      "outputs": [],
      "source": [
        "from pyspark.ml.recommendation import ALS\n",
        "from pyspark.ml.evaluation import RegressionEvaluator\n",
        "\n",
        "# Split into training and test sets\n",
        "(training, test) = df_indexed.randomSplit([0.8, 0.2])\n",
        "\n",
        "# Train ALS model\n",
        "als = ALS(\n",
        "    maxIter=20,\n",
        "    regParam=0.01,\n",
        "    userCol=\"userId\",\n",
        "    itemCol=\"itemId\",\n",
        "    ratingCol=\"rating\",\n",
        "    coldStartStrategy=\"drop\",  # handle NaNs\n",
        "    implicitPrefs=True\n",
        ")\n",
        "\n",
        "model = als.fit(training)\n"
      ]
    },
    {
      "cell_type": "markdown",
      "metadata": {
        "id": "vlMe57Ajvgwx"
      },
      "source": [
        "##  Step 7: Evaluate the Model"
      ]
    },
    {
      "cell_type": "code",
      "execution_count": null,
      "metadata": {
        "colab": {
          "base_uri": "https://localhost:8080/"
        },
        "id": "crIq0ekwtpqI",
        "outputId": "0c93a500-6430-4a49-e694-77a0b96b9670"
      },
      "outputs": [
        {
          "name": "stdout",
          "output_type": "stream",
          "text": [
            "Root-mean-square error = 639277.9661975233\n"
          ]
        }
      ],
      "source": [
        "# Predict on test set\n",
        "predictions = model.transform(test)\n",
        "\n",
        "# Evaluate using RMSE\n",
        "evaluator = RegressionEvaluator(metricName=\"rmse\", labelCol=\"rating\", predictionCol=\"prediction\")\n",
        "rmse = evaluator.evaluate(predictions)\n",
        "\n",
        "print(f\"Root-mean-square error = {rmse}\")\n"
      ]
    },
    {
      "cell_type": "markdown",
      "metadata": {
        "id": "ZUTV1QXRMFzK"
      },
      "source": [
        "##Step 8: Reverse Indexing for Decoding"
      ]
    },
    {
      "cell_type": "code",
      "execution_count": 21,
      "metadata": {
        "id": "7Gd2lXglMqYw"
      },
      "outputs": [],
      "source": [
        "from pyspark.ml.feature import StringIndexer\n",
        "user_indexer = StringIndexer(inputCol=\"CustomerID\", outputCol=\"userId\")\n",
        "item_indexer = StringIndexer(inputCol=\"ProductID\", outputCol=\"itemId\")\n",
        "\n",
        "user_indexed_model = user_indexer.fit(df_for_als)\n",
        "item_indexed_model = item_indexer.fit(df_for_als)\n",
        "\n",
        "df_indexed = user_indexed_model.transform(df_for_als)\n",
        "df_indexed = item_indexed_model.transform(df_indexed)\n",
        "\n",
        "from pyspark.ml.feature import IndexToString\n",
        "\n",
        "user_reverse = IndexToString(inputCol=\"userId\", outputCol=\"CustomerID_decoded\",\n",
        "                              labels=user_indexed_model.labels)\n",
        "item_reverse = IndexToString(inputCol=\"itemId\", outputCol=\"ProductID_decoded\",\n",
        "                              labels=item_indexed_model.labels)\n"
      ]
    },
    {
      "cell_type": "markdown",
      "metadata": {
        "id": "MA9O9bRMvkRh"
      },
      "source": [
        "## Step 9: Generate Top-N Recommendations"
      ]
    },
    {
      "cell_type": "markdown",
      "metadata": {
        "id": "SjlXh0GSBiC9"
      },
      "source": [
        "**Recommend top 10 users for each product**"
      ]
    },
    {
      "cell_type": "code",
      "execution_count": 22,
      "metadata": {
        "colab": {
          "base_uri": "https://localhost:8080/"
        },
        "id": "zOQ0Qvogt5jR",
        "outputId": "f633c653-26a3-4498-e326-4d8e4954e4cc"
      },
      "outputs": [
        {
          "output_type": "stream",
          "name": "stdout",
          "text": [
            "+------+----------------------------------------------------------------------------------------------------------------------------------------------------------------------------------------------+\n",
            "|itemId|recommendations                                                                                                                                                                               |\n",
            "+------+----------------------------------------------------------------------------------------------------------------------------------------------------------------------------------------------+\n",
            "|10    |[{93, 0.99999994}, {840, 0.9999999}, {79, 0.9999999}, {56, 0.9999999}, {1622, 0.9999998}, {1479, 0.9999998}, {1439, 0.9999998}, {1308, 0.9999998}, {1128, 0.9999998}, {1077, 0.9999998}]      |\n",
            "|0     |[{598, 0.9999966}, {569, 0.9999966}, {1640, 0.99999404}, {962, 0.99999404}, {727, 0.9999939}, {484, 0.9999939}, {1464, 0.9999938}, {1428, 0.9999938}, {1643, 0.9999937}, {1555, 0.9999937}]   |\n",
            "|1     |[{90, 0.99999994}, {16, 0.99999976}, {1311, 0.9999997}, {1244, 0.9999997}, {931, 0.9999997}, {372, 0.9999997}, {327, 0.9999997}, {272, 0.9999997}, {3, 0.9999997}, {1720, 0.99999964}]        |\n",
            "|11    |[{10, 1.4864272}, {87, 1.4764353}, {21, 1.4764313}, {201, 1.4764204}, {166, 1.4763465}, {77, 1.4762869}, {206, 1.4762415}, {9, 1.3687574}, {2, 1.3674403}, {99, 1.2848011}]                   |\n",
            "|12    |[{15, 0.9999998}, {3, 0.99999976}, {924, 0.9999997}, {813, 0.9999997}, {774, 0.9999997}, {405, 0.9999997}, {167, 0.9999997}, {1705, 0.9999996}, {1616, 0.9999996}, {1295, 0.9999996}]         |\n",
            "|2     |[{224, 1.0000015}, {61, 1.0000011}, {22, 1.000001}, {19, 1.0000008}, {2, 1.0000008}, {203, 1.0000001}, {65, 1.0000001}, {12, 1.0000001}, {217, 1.0}, {205, 1.0}]                              |\n",
            "|13    |[{167, 0.9999996}, {1103, 0.99999946}, {1288, 0.99999934}, {980, 0.99999934}, {563, 0.99999934}, {513, 0.99999934}, {504, 0.99999934}, {298, 0.99999934}, {40, 0.9999993}, {212, 0.9999992}]  |\n",
            "|3     |[{2, 1.5742285}, {9, 1.5238546}, {87, 1.5216378}, {21, 1.5216341}, {201, 1.521627}, {166, 1.5215591}, {77, 1.5215048}, {206, 1.5214671}, {10, 1.4965962}, {68, 1.433417}]                     |\n",
            "|4     |[{5, 2.3626308}, {1, 1.9455786}, {134, 1.9455634}, {33, 1.9455562}, {82, 1.9455508}, {97, 1.9455249}, {51, 1.9454988}, {135, 1.9454929}, {99, 1.9335628}, {28, 1.9335616}]                    |\n",
            "|14    |[{1442, 0.9999993}, {1223, 0.9999993}, {262, 0.9999993}, {1584, 0.99999917}, {1542, 0.99999917}, {8, 0.99999917}, {1258, 0.9999991}, {1049, 0.99999905}, {216, 0.99999905}, {287, 0.999999}]  |\n",
            "|5     |[{165, 0.99999976}, {1658, 0.9999995}, {1613, 0.9999995}, {1425, 0.9999995}, {983, 0.9999995}, {928, 0.9999995}, {600, 0.9999995}, {190, 0.9999995}, {1143, 0.99999946}, {1122, 0.99999946}]  |\n",
            "|6     |[{140, 0.99999994}, {48, 0.99999994}, {200, 0.9999999}, {153, 0.9999999}, {1714, 0.9999998}, {1710, 0.9999998}, {1510, 0.9999998}, {1476, 0.9999998}, {1430, 0.9999998}, {1251, 0.9999998}]   |\n",
            "|7     |[{25, 1.0355928}, {29, 1.0353899}, {114, 1.0000002}, {228, 1.0000001}, {170, 1.0000001}, {90, 1.0000001}, {209, 1.0}, {43, 1.0}, {174, 0.9999999}, {12, 0.9999998}]                           |\n",
            "|8     |[{9, 1.521979}, {5, 1.4604733}, {177, 1.414997}, {146, 1.4149884}, {210, 1.4148924}, {19, 1.2818761}, {57, 1.0259925}, {226, 1.000007}, {131, 1.0000008}, {10, 1.0000006}]                    |\n",
            "|9     |[{914, 0.9999998}, {465, 0.9999997}, {43, 0.9999997}, {1563, 0.99999964}, {1458, 0.99999964}, {1178, 0.99999964}, {1118, 0.99999964}, {884, 0.99999964}, {876, 0.99999964}, {814, 0.99999964}]|\n",
            "+------+----------------------------------------------------------------------------------------------------------------------------------------------------------------------------------------------+\n",
            "\n"
          ]
        }
      ],
      "source": [
        "item_recommendations = model.recommendForAllItems(10)\n",
        "item_recommendations.show(truncate=False)\n"
      ]
    },
    {
      "cell_type": "markdown",
      "metadata": {
        "id": "TcV_-ArbB62z"
      },
      "source": [
        "**Recommend top 10 products for each user**"
      ]
    },
    {
      "cell_type": "code",
      "execution_count": 23,
      "metadata": {
        "id": "H7N6vePJCIDL",
        "colab": {
          "base_uri": "https://localhost:8080/"
        },
        "outputId": "8c837dc7-8608-40b2-953c-e804e6195239"
      },
      "outputs": [
        {
          "output_type": "stream",
          "name": "stdout",
          "text": [
            "+------+---------------------------------------------------------------------------------------------------------------------------------------------------------------------------------+\n",
            "|userId|recommendations                                                                                                                                                                  |\n",
            "+------+---------------------------------------------------------------------------------------------------------------------------------------------------------------------------------+\n",
            "|0     |[{4, 1.736802}, {3, 1.3278042}, {11, 1.026103}, {7, 0.9999985}, {0, 0.9999897}, {8, 0.80345577}, {2, 0.33901367}, {1, 0.10981738}, {10, -0.074548885}, {6, -0.19319917}]         |\n",
            "|1     |[{4, 1.9455786}, {3, 1.0000033}, {0, 0.999992}, {11, 0.92424846}, {8, 0.7873459}, {2, 0.14884572}, {6, 0.05107507}, {10, -0.010312951}, {1, -0.07915065}, {7, -0.13583252}]      |\n",
            "|2     |[{3, 1.5742285}, {11, 1.3674403}, {4, 1.0000024}, {2, 1.0000008}, {0, 0.9999912}, {8, 0.7102961}, {10, 0.10035751}, {7, 0.012991963}, {14, -0.10530723}, {12, -0.11176197}]      |\n",
            "|3     |[{12, 0.99999976}, {1, 0.9999997}, {13, 0.25721392}, {10, 0.17780343}, {7, 0.15542805}, {6, 0.08531526}, {4, -0.01524973}, {0, -0.049106557}, {8, -0.0881305}, {2, -0.11121642}] |\n",
            "|4     |[{10, 0.9999993}, {3, 0.9999968}, {8, 0.44939262}, {2, 0.44561136}, {0, 0.37256154}, {11, 0.27411532}, {7, 0.2220218}, {12, 0.10750869}, {14, 0.09603803}, {9, 0.09414922}]      |\n",
            "|5     |[{4, 2.3626308}, {8, 1.4604733}, {5, 0.9999961}, {0, 0.99997425}, {11, 0.9392215}, {3, 0.70841044}, {7, 0.4611129}, {2, 0.3751339}, {10, 0.008604328}, {6, -0.24534068}]         |\n",
            "|6     |[{2, 0.99999964}, {4, 0.9999995}, {1, 0.9999993}, {7, 0.42478368}, {6, 0.32204828}, {0, 0.22993821}, {10, 0.19292592}, {13, 0.16130936}, {12, 0.112618186}, {3, 0.0047750133}]   |\n",
            "|7     |[{1, 0.9999992}, {11, 0.99999875}, {4, 0.9999975}, {6, 0.61178285}, {0, 0.48425326}, {7, 0.38126}, {8, 0.21439649}, {3, 0.13669422}, {10, -0.1325812}, {12, -0.13931683}]        |\n",
            "|8     |[{14, 0.99999917}, {13, 0.35148576}, {9, 0.1689923}, {10, 0.1296712}, {8, 0.1263833}, {6, 0.0926784}, {1, 0.060409002}, {2, 0.03699261}, {3, -0.0022678722}, {0, -0.035842318}]  |\n",
            "|9     |[{3, 1.5238546}, {8, 1.521979}, {11, 1.3687574}, {4, 1.0000042}, {13, 0.999998}, {0, 0.9999875}, {2, 0.52533996}, {14, 0.32243326}, {12, 0.17200582}, {7, 0.0065302374}]         |\n",
            "|10    |[{3, 1.4965962}, {11, 1.4864272}, {4, 1.0000023}, {8, 1.0000006}, {0, 0.99991816}, {2, 0.27222672}, {10, 0.10827137}, {7, -0.042142257}, {14, -0.09941343}, {12, -0.11755736}]   |\n",
            "|11    |[{2, 0.99999994}, {13, 0.9999983}, {14, 0.3206329}, {8, 0.26133025}, {12, 0.25076714}, {7, 0.12457988}, {6, 0.10488814}, {5, 0.062867284}, {3, 0.0452804}, {1, -0.013703529}]    |\n",
            "|12    |[{4, 1.6896269}, {3, 1.3908753}, {2, 1.0000001}, {7, 0.9999998}, {0, 0.99997133}, {11, 0.95625806}, {8, 0.6821987}, {1, -0.0065817176}, {10, -0.02655488}, {6, -0.08767638}]     |\n",
            "|13    |[{11, 1.0592958}, {4, 1.0000002}, {3, 0.9999966}, {6, 0.99999595}, {2, 0.82868785}, {0, 0.7069132}, {9, 0.5485333}, {8, 0.3322541}, {7, 0.31143528}, {12, 0.13573167}]           |\n",
            "|14    |[{3, 0.9999978}, {1, 0.99999756}, {8, 0.99999726}, {7, 0.8376407}, {11, 0.6455495}, {0, 0.53565234}, {10, 0.5251441}, {13, 0.4305031}, {12, 0.3963501}, {4, 0.33081484}]         |\n",
            "|15    |[{12, 0.9999998}, {6, 0.9999998}, {8, 0.9999996}, {13, 0.48338965}, {11, 0.37058905}, {10, 0.31903356}, {9, 0.29124016}, {4, 0.17368022}, {0, 0.07368247}, {5, 0.012785732}]     |\n",
            "|16    |[{1, 0.99999976}, {6, 0.99999887}, {12, 0.99999857}, {13, 0.23294221}, {10, 0.15604453}, {11, 0.12694228}, {7, 0.123114415}, {4, 0.09387242}, {9, 0.052404463}, {2, 0.021482108}]|\n",
            "|17    |[{4, 1.8290849}, {3, 1.1117358}, {2, 0.99999976}, {1, 0.9999989}, {0, 0.99998075}, {11, 0.8133204}, {7, 0.42201534}, {8, 0.32545367}, {10, 0.23964769}, {6, 0.047440797}]        |\n",
            "|18    |[{5, 0.9999966}, {10, 0.9999815}, {8, 0.44415}, {7, 0.19380195}, {2, 0.110957764}, {6, -0.024551244}, {4, -0.11019819}, {1, -0.12967199}, {12, -0.16513266}, {0, -0.1724927}]    |\n",
            "|19    |[{4, 1.7587473}, {8, 1.2818761}, {3, 1.2385942}, {2, 1.0000008}, {13, 0.9999976}, {0, 0.99960524}, {11, 0.7359542}, {14, 0.26226875}, {12, 0.14395596}, {7, 0.040848475}]        |\n",
            "+------+---------------------------------------------------------------------------------------------------------------------------------------------------------------------------------+\n",
            "only showing top 20 rows\n",
            "\n"
          ]
        }
      ],
      "source": [
        "user_recommendations = model.recommendForAllUsers(10)\n",
        "user_recommendations.show(truncate=False)"
      ]
    },
    {
      "cell_type": "markdown",
      "metadata": {
        "id": "qv-T7jhUvoss"
      },
      "source": [
        "## Step 10: Insights & Visualizations\n",
        "\n",
        "\n"
      ]
    },
    {
      "cell_type": "code",
      "execution_count": 24,
      "metadata": {
        "colab": {
          "base_uri": "https://localhost:8080/"
        },
        "id": "Jxzvs6DKuAgs",
        "outputId": "3ef3fc16-50fe-4f41-b637-30d20e3a8bf7"
      },
      "outputs": [
        {
          "output_type": "stream",
          "name": "stdout",
          "text": [
            "+------+-----+\n",
            "|userId|count|\n",
            "+------+-----+\n",
            "|   8.0|    3|\n",
            "|   0.0|    3|\n",
            "|   7.0|    3|\n",
            "|  18.0|    3|\n",
            "|   1.0|    3|\n",
            "|   4.0|    3|\n",
            "|  11.0|    3|\n",
            "|  14.0|    3|\n",
            "|  19.0|    3|\n",
            "|   3.0|    3|\n",
            "|   2.0|    3|\n",
            "|  17.0|    3|\n",
            "|  10.0|    3|\n",
            "|  13.0|    3|\n",
            "|   6.0|    3|\n",
            "|  20.0|    3|\n",
            "|  15.0|    3|\n",
            "|   5.0|    3|\n",
            "|   9.0|    3|\n",
            "|  16.0|    3|\n",
            "+------+-----+\n",
            "only showing top 20 rows\n",
            "\n",
            "+------+--------------------+\n",
            "|itemId|         sum(rating)|\n",
            "+------+--------------------+\n",
            "|   0.0|2.3535004830999997E8|\n",
            "|   1.0|1.5358210823000008E8|\n",
            "|   2.0|1.4431175761999997E8|\n",
            "|   3.0|1.1489664418000007E8|\n",
            "|   4.0| 9.045348099000005E7|\n",
            "|   5.0|6.1289011140000015E7|\n",
            "|   6.0| 5.928651637000002E7|\n",
            "|   9.0| 5.019659488000003E7|\n",
            "|   7.0| 4.991938182999997E7|\n",
            "|   8.0| 4.835797516999996E7|\n",
            "|  10.0|       4.417514405E7|\n",
            "|  11.0|3.1827992659999993E7|\n",
            "|  12.0|3.1260533880000025E7|\n",
            "|  13.0|2.7627460640000008E7|\n",
            "|  14.0|1.8960002410000004E7|\n",
            "+------+--------------------+\n",
            "\n"
          ]
        }
      ],
      "source": [
        "# Top most active users\n",
        "df_indexed.groupBy(\"userId\").count().orderBy(\"count\", ascending=False).show()\n",
        "\n",
        "# Top selling products\n",
        "df_indexed.groupBy(\"itemId\").sum(\"rating\").orderBy(\"sum(rating)\", ascending=False).show()\n"
      ]
    },
    {
      "cell_type": "code",
      "execution_count": 25,
      "metadata": {
        "id": "1x3xt2ID3OCu",
        "colab": {
          "base_uri": "https://localhost:8080/"
        },
        "outputId": "4c8262fa-c8b7-420f-f3e6-7ef29c34cb10"
      },
      "outputs": [
        {
          "output_type": "stream",
          "name": "stdout",
          "text": [
            "+----------+-----+\n",
            "|CustomerID|count|\n",
            "+----------+-----+\n",
            "|      1199| 1581|\n",
            "|       311| 1268|\n",
            "|      1564| 1242|\n",
            "|      1183| 1242|\n",
            "|       676| 1241|\n",
            "|      1442| 1241|\n",
            "|       883| 1238|\n",
            "|       758| 1230|\n",
            "|       482| 1215|\n",
            "|      1029| 1213|\n",
            "|      1105| 1213|\n",
            "|      1337| 1207|\n",
            "|      1160| 1205|\n",
            "|         2| 1196|\n",
            "|      1310| 1190|\n",
            "|      1589| 1190|\n",
            "|      1088| 1190|\n",
            "|       512| 1186|\n",
            "|       371| 1182|\n",
            "|      1713| 1175|\n",
            "+----------+-----+\n",
            "only showing top 20 rows\n",
            "\n"
          ]
        }
      ],
      "source": [
        "df_final.groupBy(\"CustomerID\") \\\n",
        "    .count() \\\n",
        "    .orderBy(\"count\", ascending=False) \\\n",
        "    .show(20)\n"
      ]
    },
    {
      "cell_type": "code",
      "execution_count": 26,
      "metadata": {
        "id": "Qd8yyM0_55zu",
        "colab": {
          "base_uri": "https://localhost:8080/"
        },
        "outputId": "08d753fd-599e-4338-b904-4548ca5d7f8a"
      },
      "outputs": [
        {
          "output_type": "stream",
          "name": "stdout",
          "text": [
            "+---------+--------------------+\n",
            "|ProductID|         sum(rating)|\n",
            "+---------+--------------------+\n",
            "|        4|2.3535004830998766E8|\n",
            "|        8| 1.535821082299888E8|\n",
            "|        6|1.4431175761999512E8|\n",
            "|       14|1.1489664417999157E8|\n",
            "|        9| 9.045348099000138E7|\n",
            "|       10| 6.128901114000216E7|\n",
            "|        2| 5.928651637000117E7|\n",
            "|        7|  5.01965948799983E7|\n",
            "|       11|4.9919381829998866E7|\n",
            "|        5| 4.835797516999872E7|\n",
            "|        1| 4.417514404999983E7|\n",
            "|       13|3.1827992659999866E7|\n",
            "|        3|3.1260533880001895E7|\n",
            "|        0|2.7627460640001252E7|\n",
            "|       12|1.8960002410000257E7|\n",
            "+---------+--------------------+\n",
            "\n"
          ]
        }
      ],
      "source": [
        "# Total money spent per product\n",
        "df_final.groupBy(\"ProductID\").sum(\"rating\").orderBy(\"sum(rating)\", ascending=False).show()\n"
      ]
    },
    {
      "cell_type": "code",
      "execution_count": 27,
      "metadata": {
        "id": "ohuYA2DQ6A3p",
        "colab": {
          "base_uri": "https://localhost:8080/"
        },
        "outputId": "b1873577-fc2d-43fa-e12c-6da5426302be"
      },
      "outputs": [
        {
          "output_type": "stream",
          "name": "stdout",
          "text": [
            "+---------+------------------+\n",
            "|ProductID|       avg(rating)|\n",
            "+---------+------------------+\n",
            "|        6|1518.2880158654496|\n",
            "|        7|1468.2089233378658|\n",
            "|        1|1461.9301734123121|\n",
            "|       12| 1450.983577714874|\n",
            "|       10|1441.5177726556944|\n",
            "|        0|1440.5057948798817|\n",
            "|       14|1437.4118847033337|\n",
            "|        9|1433.6304718356957|\n",
            "|        2|1419.6622774838047|\n",
            "|        8|1415.9470085555733|\n",
            "|       11|1413.6662276279696|\n",
            "|        4|1395.3698058873367|\n",
            "|        5|1384.6631305119322|\n",
            "|        3|1370.9557880888472|\n",
            "|       13|1283.9045042355735|\n",
            "+---------+------------------+\n",
            "\n"
          ]
        }
      ],
      "source": [
        "# Average rating per product (i.e., average amount spent)\n",
        "df_final.groupBy(\"ProductID\").avg(\"rating\").orderBy(\"avg(rating)\", ascending=False).show()\n"
      ]
    },
    {
      "cell_type": "code",
      "execution_count": 28,
      "metadata": {
        "colab": {
          "base_uri": "https://localhost:8080/"
        },
        "id": "vG_aez456KrS",
        "outputId": "51bd8685-efa5-4e2f-f416-79c150f356e7"
      },
      "outputs": [
        {
          "output_type": "stream",
          "name": "stdout",
          "text": [
            "Unique customers: 1741\n",
            "Unique products: 15\n"
          ]
        }
      ],
      "source": [
        "print(\"Unique customers:\", df_final.select(\"CustomerID\").distinct().count())\n",
        "print(\"Unique products:\", df_final.select(\"ProductID\").distinct().count())\n"
      ]
    },
    {
      "cell_type": "code",
      "execution_count": 29,
      "metadata": {
        "id": "l-aBjAQmDkxT",
        "colab": {
          "base_uri": "https://localhost:8080/",
          "height": 969
        },
        "outputId": "19d6301f-8ba5-42c6-e76e-dadc1f4a5bb9"
      },
      "outputs": [
        {
          "output_type": "execute_result",
          "data": {
            "text/plain": [
              "<Axes: title={'center': 'Top 10 Selling Products'}, xlabel='itemId'>"
            ]
          },
          "metadata": {},
          "execution_count": 29
        },
        {
          "output_type": "display_data",
          "data": {
            "text/plain": [
              "<Figure size 640x480 with 1 Axes>"
            ],
            "image/png": "[encoded data removed]"
          },
          "metadata": {}
        },
        {
          "output_type": "display_data",
          "data": {
            "text/plain": [
              "<Figure size 640x480 with 1 Axes>"
            ],
            "image/png": "[encoded data removed]"
          },
          "metadata": {}
        }
      ],
      "source": [
        "# For top users\n",
        "top_users = df_indexed.groupBy(\"userId\").count().orderBy(\"count\", ascending=False).limit(10).toPandas()\n",
        "top_users.plot(kind='bar', x='userId', y='count', title='Top 10 Most Active Users')\n",
        "\n",
        "# For top products\n",
        "top_items = df_indexed.groupBy(\"itemId\").sum(\"rating\").orderBy(\"sum(rating)\", ascending=False).limit(10).toPandas()\n",
        "top_items.plot(kind='bar', x='itemId', y='sum(rating)', title='Top 10 Selling Products')\n"
      ]
    },
    {
      "cell_type": "markdown",
      "metadata": {
        "id": "esEqvNRwvvb9"
      },
      "source": [
        "## Step 11: Save Your Results"
      ]
    },
    {
      "cell_type": "code",
      "execution_count": 30,
      "metadata": {
        "colab": {
          "base_uri": "https://localhost:8080/"
        },
        "id": "ZUhS8vbduLGQ",
        "outputId": "1aa9a6ff-b76e-4c0e-addb-1123ccae25ac"
      },
      "outputs": [
        {
          "output_type": "stream",
          "name": "stdout",
          "text": [
            "+------+------+------------+\n",
            "|userId|itemId|      rating|\n",
            "+------+------+------------+\n",
            "|     0|     4|    1.736802|\n",
            "|     0|     3|   1.3278042|\n",
            "|     0|    11|    1.026103|\n",
            "|     0|     7|   0.9999985|\n",
            "|     0|     0|   0.9999897|\n",
            "|     0|     8|  0.80345577|\n",
            "|     0|     2|  0.33901367|\n",
            "|     0|     1|  0.10981738|\n",
            "|     0|    10|-0.074548885|\n",
            "|     0|     6| -0.19319917|\n",
            "|     1|     4|   1.9455786|\n",
            "|     1|     3|   1.0000033|\n",
            "|     1|     0|    0.999992|\n",
            "|     1|    11|  0.92424846|\n",
            "|     1|     8|   0.7873459|\n",
            "|     1|     2|  0.14884572|\n",
            "|     1|     6|  0.05107507|\n",
            "|     1|    10|-0.010312951|\n",
            "|     1|     1| -0.07915065|\n",
            "|     1|     7| -0.13583252|\n",
            "+------+------+------------+\n",
            "only showing top 20 rows\n",
            "\n",
            "+------+------+----------+\n",
            "|itemId|userId|    rating|\n",
            "+------+------+----------+\n",
            "|    10|    93|0.99999994|\n",
            "|    10|   840| 0.9999999|\n",
            "|    10|    79| 0.9999999|\n",
            "|    10|    56| 0.9999999|\n",
            "|    10|  1622| 0.9999998|\n",
            "|    10|  1479| 0.9999998|\n",
            "|    10|  1439| 0.9999998|\n",
            "|    10|  1308| 0.9999998|\n",
            "|    10|  1128| 0.9999998|\n",
            "|    10|  1077| 0.9999998|\n",
            "|     0|   598| 0.9999966|\n",
            "|     0|   569| 0.9999966|\n",
            "|     0|  1640|0.99999404|\n",
            "|     0|   962|0.99999404|\n",
            "|     0|   727| 0.9999939|\n",
            "|     0|   484| 0.9999939|\n",
            "|     0|  1464| 0.9999938|\n",
            "|     0|  1428| 0.9999938|\n",
            "|     0|  1643| 0.9999937|\n",
            "|     0|  1555| 0.9999937|\n",
            "+------+------+----------+\n",
            "only showing top 20 rows\n",
            "\n"
          ]
        }
      ],
      "source": [
        "from pyspark.sql.functions import explode\n",
        "\n",
        "# Flatten recommendations\n",
        "user_recs_flat = user_recommendations.selectExpr(\"userId\", \"explode(recommendations) as rec\") \\\n",
        "                                     .selectExpr(\"userId\", \"rec.itemId as itemId\", \"rec.rating as rating\")\n",
        "\n",
        "item_recs_flat = item_recommendations.selectExpr(\"itemId\", \"explode(recommendations) as rec\") \\\n",
        "                                      .selectExpr(\"itemId\", \"rec.userId as userId\", \"rec.rating as rating\")\n",
        "\n",
        "# -Show for verification\n",
        "user_recs_flat.show()\n",
        "item_recs_flat.show()\n",
        "\n",
        "# Save to CSV\n",
        "user_recs_flat.write.csv(\"user_recommendations.csv\", header=True, mode=\"overwrite\")\n",
        "item_recs_flat.write.csv(\"item_recommendations.csv\", header=True, mode=\"overwrite\")"
      ]
    },
    {
      "cell_type": "code",
      "execution_count": 31,
      "metadata": {
        "colab": {
          "base_uri": "https://localhost:8080/"
        },
        "id": "qkGeGFAmucZw",
        "outputId": "ff1fa3be-df36-4e87-b66a-12ffb93939de"
      },
      "outputs": [
        {
          "output_type": "stream",
          "name": "stdout",
          "text": [
            "+------------------+-----------------+------------+\n",
            "|CustomerID_decoded|ProductID_decoded|rating      |\n",
            "+------------------+-----------------+------------+\n",
            "|1029              |9                |1.736802    |\n",
            "|1029              |14               |1.3278042   |\n",
            "|1029              |13               |1.026103    |\n",
            "|1029              |11               |0.9999985   |\n",
            "|1029              |4                |0.9999897   |\n",
            "|1029              |5                |0.80345577  |\n",
            "|1029              |6                |0.33901367  |\n",
            "|1029              |8                |0.10981738  |\n",
            "|1029              |1                |-0.074548885|\n",
            "|1029              |2                |-0.19319917 |\n",
            "|1088              |9                |1.9455786   |\n",
            "|1088              |14               |1.0000033   |\n",
            "|1088              |4                |0.999992    |\n",
            "|1088              |13               |0.92424846  |\n",
            "|1088              |5                |0.7873459   |\n",
            "|1088              |6                |0.14884572  |\n",
            "|1088              |2                |0.05107507  |\n",
            "|1088              |1                |-0.010312951|\n",
            "|1088              |8                |-0.07915065 |\n",
            "|1088              |11               |-0.13583252 |\n",
            "+------------------+-----------------+------------+\n",
            "only showing top 20 rows\n",
            "\n",
            "+------------------+-----------------+----------+\n",
            "|CustomerID_decoded|ProductID_decoded|rating    |\n",
            "+------------------+-----------------+----------+\n",
            "|1609              |1                |0.99999994|\n",
            "|1621              |1                |0.9999999 |\n",
            "|1502              |1                |0.9999999 |\n",
            "|1295              |1                |0.9999999 |\n",
            "|879               |1                |0.9999998 |\n",
            "|730               |1                |0.9999998 |\n",
            "|690               |1                |0.9999998 |\n",
            "|547               |1                |0.9999998 |\n",
            "|35                |1                |0.9999998 |\n",
            "|296               |1                |0.9999998 |\n",
            "|1377              |4                |0.9999966 |\n",
            "|1348              |4                |0.9999966 |\n",
            "|898               |4                |0.99999404|\n",
            "|18                |4                |0.99999404|\n",
            "|1506              |4                |0.9999939 |\n",
            "|1260              |4                |0.9999939 |\n",
            "|717               |4                |0.9999938 |\n",
            "|679               |4                |0.9999938 |\n",
            "|90                |4                |0.9999937 |\n",
            "|810               |4                |0.9999937 |\n",
            "+------------------+-----------------+----------+\n",
            "only showing top 20 rows\n",
            "\n"
          ]
        }
      ],
      "source": [
        "# ----------- Decode user recommendations ------------\n",
        "user_recs_decoded = user_reverse.transform(user_recs_flat)\n",
        "user_recs_decoded = item_reverse.transform(user_recs_decoded)\n",
        "\n",
        "user_recs_decoded.select(\"CustomerID_decoded\", \"ProductID_decoded\", \"rating\").show(truncate=False)\n",
        "\n",
        "# ----------- Decode item recommendations ------------\n",
        "item_recs_decoded = user_reverse.transform(item_recs_flat)\n",
        "item_recs_decoded = item_reverse.transform(item_recs_decoded)\n",
        "\n",
        "item_recs_decoded.select(\"CustomerID_decoded\", \"ProductID_decoded\", \"rating\").show(truncate=False)"
      ]
    }
  ],
  "metadata": {
    "colab": {
      "provenance": [],
      "include_colab_link": true
    },
    "kernelspec": {
      "display_name": "Python 3",
      "name": "python3"
    },
    "language_info": {
      "name": "python"
    }
  },
  "nbformat": 4,
  "nbformat_minor": 0
}